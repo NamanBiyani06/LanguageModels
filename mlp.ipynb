{
 "cells": [
  {
   "cell_type": "code",
   "execution_count": 171,
   "id": "649b1bab",
   "metadata": {},
   "outputs": [],
   "source": [
    "# type: ignore\n",
    "import torch\n",
    "import random\n",
    "import torch.nn.functional as F\n",
    "import matplotlib.pyplot as plt\n",
    "%matplotlib inline"
   ]
  },
  {
   "cell_type": "code",
   "execution_count": 172,
   "id": "5c56c3ee",
   "metadata": {},
   "outputs": [
    {
     "data": {
      "text/plain": [
       "['emma',\n",
       " 'olivia',\n",
       " 'ava',\n",
       " 'isabella',\n",
       " 'sophia',\n",
       " 'charlotte',\n",
       " 'mia',\n",
       " 'amelia',\n",
       " 'harper',\n",
       " 'evelyn']"
      ]
     },
     "execution_count": 172,
     "metadata": {},
     "output_type": "execute_result"
    }
   ],
   "source": [
    "words = open('data/names.txt', 'r').read().splitlines()\n",
    "words[:10]"
   ]
  },
  {
   "cell_type": "code",
   "execution_count": 173,
   "id": "38560a3b",
   "metadata": {},
   "outputs": [
    {
     "data": {
      "text/plain": [
       "32033"
      ]
     },
     "execution_count": 173,
     "metadata": {},
     "output_type": "execute_result"
    }
   ],
   "source": [
    "len(words)"
   ]
  },
  {
   "cell_type": "code",
   "execution_count": 174,
   "id": "abf65a37",
   "metadata": {},
   "outputs": [
    {
     "name": "stdout",
     "output_type": "stream",
     "text": [
      "{1: 'a', 2: 'b', 3: 'c', 4: 'd', 5: 'e', 6: 'f', 7: 'g', 8: 'h', 9: 'i', 10: 'j', 11: 'k', 12: 'l', 13: 'm', 14: 'n', 15: 'o', 16: 'p', 17: 'q', 18: 'r', 19: 's', 20: 't', 21: 'u', 22: 'v', 23: 'w', 24: 'x', 25: 'y', 26: 'z', 0: '.'}\n"
     ]
    }
   ],
   "source": [
    "chars = sorted(list(set(''.join(words))))\n",
    "stoi = {s:i + 1 for i, s in enumerate(chars)}\n",
    "stoi['.'] = 0\n",
    "itos = {i:s for s, i in stoi.items()}\n",
    "print(itos)"
   ]
  },
  {
   "cell_type": "markdown",
   "id": "dc04f722",
   "metadata": {},
   "source": [
    "#### training split, dev/validation split, test split\n",
    "#### 80%, 10%, 10%"
   ]
  },
  {
   "cell_type": "code",
   "execution_count": 175,
   "id": "25423159",
   "metadata": {},
   "outputs": [
    {
     "name": "stdout",
     "output_type": "stream",
     "text": [
      "torch.Size([182597, 3]) torch.Size([182597])\n",
      "torch.Size([22837, 3]) torch.Size([22837])\n",
      "torch.Size([22712, 3]) torch.Size([22712])\n"
     ]
    }
   ],
   "source": [
    "def build_dataset(words):\n",
    "    # dataset creation\n",
    "    context_length = 3\n",
    "    # , labels\n",
    "    X, Y = [], []\n",
    "\n",
    "    for w in words:\n",
    "        context = [0] * context_length\n",
    "        \n",
    "        for char in w + '.':\n",
    "            ind = stoi[char]\n",
    "            X.append(context)\n",
    "            Y.append(ind)\n",
    "            # print(''.join(itos[i] for i in context), '-->', itos[ind])\n",
    "            context = context[1:] + [ind]\n",
    "\n",
    "    X = torch.tensor(X)\n",
    "    Y = torch.tensor(Y)\n",
    "    \n",
    "    print(X.shape, Y.shape)\n",
    "    \n",
    "    return X, Y\n",
    "\n",
    "random.shuffle(words)\n",
    "train_split = int(len(words) * 0.8)\n",
    "val_split = int(len(words) * 0.9)\n",
    "\n",
    "Xtr, Ytr = build_dataset(words[:train_split])\n",
    "Xval, Yval = build_dataset(words[train_split:val_split])\n",
    "Xtest, Ytest = build_dataset(words[val_split:])\n"
   ]
  },
  {
   "cell_type": "code",
   "execution_count": 176,
   "id": "b5959043",
   "metadata": {},
   "outputs": [
    {
     "data": {
      "text/plain": [
       "(torch.Size([228146, 3]), torch.int64, torch.Size([228146]), torch.int64)"
      ]
     },
     "execution_count": 176,
     "metadata": {},
     "output_type": "execute_result"
    }
   ],
   "source": [
    "X.shape, X.dtype, Y.shape, Y.dtype # type: ignore"
   ]
  },
  {
   "cell_type": "code",
   "execution_count": 177,
   "id": "762059e4",
   "metadata": {},
   "outputs": [
    {
     "data": {
      "text/plain": [
       "tensor([[ 0,  0,  0],\n",
       "        [ 0,  0,  5],\n",
       "        [ 0,  5, 13],\n",
       "        ...,\n",
       "        [26, 26, 25],\n",
       "        [26, 25, 26],\n",
       "        [25, 26, 24]])"
      ]
     },
     "execution_count": 177,
     "metadata": {},
     "output_type": "execute_result"
    }
   ],
   "source": [
    "X"
   ]
  },
  {
   "cell_type": "code",
   "execution_count": 178,
   "id": "40d0e754",
   "metadata": {},
   "outputs": [
    {
     "name": "stdout",
     "output_type": "stream",
     "text": [
      "torch.Size([27, 2])\n"
     ]
    },
    {
     "data": {
      "text/plain": [
       "tensor([[ 0.0097,  1.1059],\n",
       "        [-0.2312, -0.2652],\n",
       "        [ 2.4136,  1.6263],\n",
       "        [-0.2230,  0.5724],\n",
       "        [ 1.7115,  0.6244],\n",
       "        [ 0.4503, -0.6984],\n",
       "        [ 0.3734,  0.5711],\n",
       "        [-0.6252,  0.2163],\n",
       "        [-0.5373,  0.3184],\n",
       "        [-0.8093, -1.5222],\n",
       "        [-0.1733,  0.7407],\n",
       "        [-1.0942,  0.5502],\n",
       "        [-0.3175, -1.3975],\n",
       "        [ 0.4505,  1.6968],\n",
       "        [ 1.4383,  0.2830],\n",
       "        [-0.1143, -1.0686],\n",
       "        [-0.1839, -0.6168],\n",
       "        [-0.6432, -0.6020],\n",
       "        [-0.0370, -0.0534],\n",
       "        [ 0.5060,  1.0866],\n",
       "        [ 0.1992, -0.2079],\n",
       "        [-0.0639,  0.9626],\n",
       "        [-1.4318,  0.0240],\n",
       "        [-0.0686,  0.0570],\n",
       "        [ 0.3917, -0.1732],\n",
       "        [-1.4842, -0.6347],\n",
       "        [ 0.3929,  1.4288]])"
      ]
     },
     "execution_count": 178,
     "metadata": {},
     "output_type": "execute_result"
    }
   ],
   "source": [
    "# create 2-dimensional embeddings for each character\n",
    "C = torch.randn((27, 2))\n",
    "print(C.shape)\n",
    "C"
   ]
  },
  {
   "cell_type": "code",
   "execution_count": 179,
   "id": "65fe54cb",
   "metadata": {},
   "outputs": [
    {
     "data": {
      "text/plain": [
       "tensor([ 0.4503, -0.6984])"
      ]
     },
     "execution_count": 179,
     "metadata": {},
     "output_type": "execute_result"
    }
   ],
   "source": [
    "# the embedding of 'd'\n",
    "C[5]"
   ]
  },
  {
   "cell_type": "code",
   "execution_count": 180,
   "id": "e2657c47",
   "metadata": {},
   "outputs": [
    {
     "data": {
      "text/plain": [
       "tensor([ 0.4503, -0.6984])"
      ]
     },
     "execution_count": 180,
     "metadata": {},
     "output_type": "execute_result"
    }
   ],
   "source": [
    "# Note that this is equivalent to the above cell\n",
    "F.one_hot(torch.tensor(5), num_classes=27).float() @ C"
   ]
  },
  {
   "cell_type": "code",
   "execution_count": 181,
   "id": "43a0422f",
   "metadata": {},
   "outputs": [
    {
     "data": {
      "text/plain": [
       "torch.Size([228146, 3, 2])"
      ]
     },
     "execution_count": 181,
     "metadata": {},
     "output_type": "execute_result"
    }
   ],
   "source": [
    "# we can also index into C using the entire X tensor\n",
    "# this has replaced each index in X with its embedding\n",
    "emb = C[X]\n",
    "C[X].shape"
   ]
  },
  {
   "cell_type": "markdown",
   "id": "f377c669",
   "metadata": {},
   "source": [
    "![Bengio et al. Architecture](images/bengioetal.png)"
   ]
  },
  {
   "cell_type": "code",
   "execution_count": 182,
   "id": "f21c95e6",
   "metadata": {},
   "outputs": [],
   "source": [
    "# first hidden layer\n",
    "# 6 (each context piece has 3 embeddings of size 2) inputs to each of 100 (arbitrary) neurons\n",
    "W1 = torch.randn((6, 100))\n",
    "b1 = torch.randn(100)"
   ]
  },
  {
   "cell_type": "code",
   "execution_count": 183,
   "id": "ccced9b7",
   "metadata": {},
   "outputs": [
    {
     "data": {
      "text/plain": [
       "torch.Size([228146, 100])"
      ]
     },
     "execution_count": 183,
     "metadata": {},
     "output_type": "execute_result"
    }
   ],
   "source": [
    "# emb.shape => (32, 3, 2) and W1 => (6, 100)\n",
    "hidden_layer_one = emb.view(emb.shape[0], 6) @ W1 + b1\n",
    "# tanh => [0, 1]\n",
    "hidden_layer_one = torch.tanh(hidden_layer_one)\n",
    "hidden_layer_one.shape"
   ]
  },
  {
   "cell_type": "code",
   "execution_count": 184,
   "id": "ff8efbd3",
   "metadata": {},
   "outputs": [],
   "source": [
    "W2 = torch.randn((100, 27))\n",
    "b2 = torch.randn(27)"
   ]
  },
  {
   "cell_type": "code",
   "execution_count": 185,
   "id": "f777c8bb",
   "metadata": {},
   "outputs": [
    {
     "data": {
      "text/plain": [
       "torch.Size([228146, 27])"
      ]
     },
     "execution_count": 185,
     "metadata": {},
     "output_type": "execute_result"
    }
   ],
   "source": [
    "# logits === final outputs\n",
    "logits = hidden_layer_one @ W2 + b2\n",
    "logits.shape"
   ]
  },
  {
   "cell_type": "code",
   "execution_count": 186,
   "id": "d528d04f",
   "metadata": {},
   "outputs": [
    {
     "data": {
      "text/plain": [
       "3481"
      ]
     },
     "execution_count": 186,
     "metadata": {},
     "output_type": "execute_result"
    }
   ],
   "source": [
    "parameters = [C, W1, b1, W2, b2]\n",
    "sum(p.nelement() for p in parameters)"
   ]
  },
  {
   "cell_type": "markdown",
   "id": "8e25c862",
   "metadata": {},
   "source": [
    "### Softmax!\n",
    "\n",
    "![Softmax in Neural Nets](images/softmax.png)"
   ]
  },
  {
   "cell_type": "code",
   "execution_count": 187,
   "id": "56ed9f0b",
   "metadata": {},
   "outputs": [
    {
     "data": {
      "text/plain": [
       "tensor(20.6174)"
      ]
     },
     "execution_count": 187,
     "metadata": {},
     "output_type": "execute_result"
    }
   ],
   "source": [
    "\n",
    "# counts = logits.exp()\n",
    "# prob = counts / counts.sum(1, keepdims=True)\n",
    "# # prob[torch.arange(32), Y] is the probability from each row that goes into the correct label y\n",
    "# loss = -prob[torch.arange(32), Y].log().mean()\n",
    "\n",
    "# built in function to perform the above operations\n",
    "# prefer built in's over manual lines for baked in efficiency (for example not creating new tensors in memory) which makes the backwards passes faster\n",
    "loss = F.cross_entropy(logits, Y)\n",
    "loss"
   ]
  },
  {
   "cell_type": "markdown",
   "id": "e40877f6",
   "metadata": {},
   "source": [
    "### Training loop"
   ]
  },
  {
   "cell_type": "code",
   "execution_count": 188,
   "id": "e8990db6",
   "metadata": {},
   "outputs": [
    {
     "data": {
      "text/plain": [
       "(torch.Size([182597, 3]), torch.Size([182597]))"
      ]
     },
     "execution_count": 188,
     "metadata": {},
     "output_type": "execute_result"
    }
   ],
   "source": [
    "# training dataset\n",
    "Xtr.shape, Ytr.shape"
   ]
  },
  {
   "cell_type": "code",
   "execution_count": 189,
   "id": "d6217286",
   "metadata": {},
   "outputs": [
    {
     "data": {
      "text/plain": [
       "11897"
      ]
     },
     "execution_count": 189,
     "metadata": {},
     "output_type": "execute_result"
    }
   ],
   "source": [
    "# clean parameter initialization\n",
    "C = torch.randn((27, 10))\n",
    "W1 = torch.randn((30, 200))\n",
    "b1 = torch.randn(200)\n",
    "W2 = torch.randn((200, 27))\n",
    "b2 = torch.randn(27)\n",
    "parameters = [C, W1, b1, W2, b2]\n",
    "sum(p.nelement() for p in parameters)"
   ]
  },
  {
   "cell_type": "code",
   "execution_count": 190,
   "id": "f86c4d29",
   "metadata": {},
   "outputs": [],
   "source": [
    "for p in parameters:\n",
    "    p.requires_grad = True"
   ]
  },
  {
   "cell_type": "code",
   "execution_count": 212,
   "id": "ba809d41",
   "metadata": {},
   "outputs": [],
   "source": [
    "# learning rate exp\n",
    "lre = torch.linspace(-3, 0, 1000)\n",
    "# learning rate step\n",
    "lrs = 10 ** lre"
   ]
  },
  {
   "cell_type": "code",
   "execution_count": 192,
   "id": "a845f0db",
   "metadata": {},
   "outputs": [],
   "source": [
    "lri = []\n",
    "lossi = []\n",
    "stepi = []"
   ]
  },
  {
   "cell_type": "code",
   "execution_count": null,
   "id": "bb4f1293",
   "metadata": {},
   "outputs": [],
   "source": [
    "for i in range(50000):\n",
    "    # create a minibatch\n",
    "    # a minibatch trains the model on a *different* subset of data each time, meaning that the gradient direction in our backprop isn't exact, but close enough to be useful\n",
    "    # 32 row indexes from X to use\n",
    "    ind = torch.randint(0, Xtr.shape[0], (32,))\n",
    "    \n",
    "    # forwards pass\n",
    "    emb = C[Xtr[ind]]\n",
    "    \n",
    "    hidden_layer_one = torch.tanh(emb.view(emb.shape[0], 30) @ W1 + b1)\n",
    "\n",
    "    logits = hidden_layer_one @ W2 + b2\n",
    "\n",
    "    loss = F.cross_entropy(logits, Ytr[ind])\n",
    "    \n",
    "    # print(loss.item())\n",
    "    \n",
    "    # backwards pass\n",
    "    for p in parameters:\n",
    "        p.grad = None\n",
    "\n",
    "    loss.backward()\n",
    "\n",
    "    # finding a good learning rate\n",
    "    # lr = lrs[i]\n",
    "    lr = 0.1 if i < 25000 else 0.01\n",
    "    for p in parameters:\n",
    "        p.data += -lr * p.grad\n",
    "    \n",
    "    # finding a good learning rate stats\n",
    "    # lri.append(lre[i].item())\n",
    "    stepi.append(i)\n",
    "    lossi.append(loss.log10().item())\n",
    "\n",
    "# loss for those minibatches\n",
    "# print(loss.item())"
   ]
  },
  {
   "cell_type": "code",
   "execution_count": null,
   "id": "6b7981b4",
   "metadata": {},
   "outputs": [
    {
     "data": {
      "text/plain": [
       "2.1671481132507324"
      ]
     },
     "execution_count": 207,
     "metadata": {},
     "output_type": "execute_result"
    }
   ],
   "source": [
    "# loss for last batch (no real significance)\n",
    "loss.item()"
   ]
  },
  {
   "cell_type": "code",
   "execution_count": 208,
   "id": "af336239",
   "metadata": {},
   "outputs": [
    {
     "data": {
      "text/plain": [
       "[<matplotlib.lines.Line2D at 0x302dabb50>]"
      ]
     },
     "execution_count": 208,
     "metadata": {},
     "output_type": "execute_result"
    },
    {
     "data": {
      "image/png": "[encoded data removed]",
      "text/plain": [
       "<Figure size 640x480 with 1 Axes>"
      ]
     },
     "metadata": {},
     "output_type": "display_data"
    }
   ],
   "source": [
    "plt.plot(stepi, lossi)"
   ]
  },
  {
   "cell_type": "code",
   "execution_count": 209,
   "id": "62f0e1fc",
   "metadata": {},
   "outputs": [
    {
     "data": {
      "text/plain": [
       "tensor(2.1477, grad_fn=<NllLossBackward0>)"
      ]
     },
     "execution_count": 209,
     "metadata": {},
     "output_type": "execute_result"
    }
   ],
   "source": [
    "# total model loss using training set\n",
    "emb = C[Xtr]\n",
    "hidden_layer_one = torch.tanh(emb.view(emb.shape[0], 30) @ W1 + b1)\n",
    "logits = hidden_layer_one @ W2 + b2\n",
    "loss = F.cross_entropy(logits, Ytr)\n",
    "loss"
   ]
  },
  {
   "cell_type": "code",
   "execution_count": 210,
   "id": "5f83a365",
   "metadata": {},
   "outputs": [
    {
     "data": {
      "text/plain": [
       "tensor(2.1717, grad_fn=<NllLossBackward0>)"
      ]
     },
     "execution_count": 210,
     "metadata": {},
     "output_type": "execute_result"
    }
   ],
   "source": [
    "# total model loss using dev set\n",
    "emb = C[Xval]\n",
    "hidden_layer_one = torch.tanh(emb.view(emb.shape[0], 30) @ W1 + b1)\n",
    "logits = hidden_layer_one @ W2 + b2\n",
    "loss = F.cross_entropy(logits, Yval)\n",
    "loss"
   ]
  },
  {
   "cell_type": "markdown",
   "id": "d8f3a4aa",
   "metadata": {},
   "source": [
    "#### Sampling from the Model"
   ]
  },
  {
   "cell_type": "code",
   "execution_count": 211,
   "id": "e414db8d",
   "metadata": {},
   "outputs": [
    {
     "name": "stdout",
     "output_type": "stream",
     "text": [
      "dau.\n",
      "jostina.\n",
      "neranda.\n",
      "parahtian.\n",
      "sukhazy.\n",
      "ayuva.\n",
      "ayarena.\n",
      "kunna.\n",
      "abdurylina.\n",
      "ceyad.\n",
      "keil.\n",
      "geb.\n",
      "rockier.\n",
      "dis.\n",
      "leigh.\n",
      "cony.\n",
      "var.\n",
      "mangela.\n",
      "ever.\n",
      "muhagenores.\n"
     ]
    }
   ],
   "source": [
    "for _ in range(20):\n",
    "    out = []\n",
    "    context = [0] * context_length\n",
    "    \n",
    "    while True:\n",
    "        emb = C[torch.tensor([context])]\n",
    "        \n",
    "        hidden_layer_one = torch.tanh(emb.view(1, -1) @ W1 + b1)\n",
    "        logits = hidden_layer_one @ W2 + b2\n",
    "        probs = F.softmax(logits, dim=1)\n",
    "        \n",
    "        ind = torch.multinomial(probs, num_samples=1).item()\n",
    "        context = context[1:] + [ind]\n",
    "        out.append(ind)\n",
    "        \n",
    "        if ind == 0:\n",
    "            break\n",
    "    \n",
    "    print(''.join(itos[i] for i in out))"
   ]
  }
 ],
 "metadata": {
  "kernelspec": {
   "display_name": "venv",
   "language": "python",
   "name": "python3"
  },
  "language_info": {
   "codemirror_mode": {
    "name": "ipython",
    "version": 3
   },
   "file_extension": ".py",
   "mimetype": "text/x-python",
   "name": "python",
   "nbconvert_exporter": "python",
   "pygments_lexer": "ipython3",
   "version": "3.10.7"
  }
 },
 "nbformat": 4,
 "nbformat_minor": 5
}
