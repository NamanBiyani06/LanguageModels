{
 "cells": [
  {
   "cell_type": "code",
   "execution_count": null,
   "id": "649b1bab",
   "metadata": {},
   "outputs": [],
   "source": [
    "# type: ignore\n",
    "import torch\n",
    "import torch.nn.functional as F\n",
    "import matplotlib.pyplot as plot\n",
    "%matplotlib inline"
   ]
  },
  {
   "cell_type": "code",
   "execution_count": 32,
   "id": "5c56c3ee",
   "metadata": {},
   "outputs": [
    {
     "data": {
      "text/plain": [
       "['emma',\n",
       " 'olivia',\n",
       " 'ava',\n",
       " 'isabella',\n",
       " 'sophia',\n",
       " 'charlotte',\n",
       " 'mia',\n",
       " 'amelia',\n",
       " 'harper',\n",
       " 'evelyn']"
      ]
     },
     "execution_count": 32,
     "metadata": {},
     "output_type": "execute_result"
    }
   ],
   "source": [
    "words = open('data/names.txt', 'r').read().splitlines()\n",
    "words[:10]"
   ]
  },
  {
   "cell_type": "code",
   "execution_count": 33,
   "id": "38560a3b",
   "metadata": {},
   "outputs": [
    {
     "data": {
      "text/plain": [
       "32033"
      ]
     },
     "execution_count": 33,
     "metadata": {},
     "output_type": "execute_result"
    }
   ],
   "source": [
    "len(words)"
   ]
  },
  {
   "cell_type": "code",
   "execution_count": 34,
   "id": "abf65a37",
   "metadata": {},
   "outputs": [
    {
     "name": "stdout",
     "output_type": "stream",
     "text": [
      "{1: 'a', 2: 'b', 3: 'c', 4: 'd', 5: 'e', 6: 'f', 7: 'g', 8: 'h', 9: 'i', 10: 'j', 11: 'k', 12: 'l', 13: 'm', 14: 'n', 15: 'o', 16: 'p', 17: 'q', 18: 'r', 19: 's', 20: 't', 21: 'u', 22: 'v', 23: 'w', 24: 'x', 25: 'y', 26: 'z', 0: '.'}\n"
     ]
    }
   ],
   "source": [
    "chars = sorted(list(set(''.join(words))))\n",
    "stoi = {s:i + 1 for i, s in enumerate(chars)}\n",
    "stoi['.'] = 0\n",
    "itos = {i:s for s, i in stoi.items()}\n",
    "print(itos)"
   ]
  },
  {
   "cell_type": "code",
   "execution_count": 35,
   "id": "25423159",
   "metadata": {},
   "outputs": [
    {
     "name": "stdout",
     "output_type": "stream",
     "text": [
      "emma\n",
      "... --> e\n",
      "..e --> m\n",
      ".em --> m\n",
      "emm --> a\n",
      "mma --> .\n",
      "olivia\n",
      "... --> o\n",
      "..o --> l\n",
      ".ol --> i\n",
      "oli --> v\n",
      "liv --> i\n",
      "ivi --> a\n",
      "via --> .\n",
      "ava\n",
      "... --> a\n",
      "..a --> v\n",
      ".av --> a\n",
      "ava --> .\n",
      "isabella\n",
      "... --> i\n",
      "..i --> s\n",
      ".is --> a\n",
      "isa --> b\n",
      "sab --> e\n",
      "abe --> l\n",
      "bel --> l\n",
      "ell --> a\n",
      "lla --> .\n",
      "sophia\n",
      "... --> s\n",
      "..s --> o\n",
      ".so --> p\n",
      "sop --> h\n",
      "oph --> i\n",
      "phi --> a\n",
      "hia --> .\n"
     ]
    }
   ],
   "source": [
    "# dataset creation\n",
    "context_length = 3\n",
    "# , labels\n",
    "X, Y = [], []\n",
    "\n",
    "for w in words[:5]:\n",
    "    print(w)\n",
    "    context = [0] * context_length\n",
    "    \n",
    "    for char in w + '.':\n",
    "        ind = stoi[char]\n",
    "        X.append(context)\n",
    "        Y.append(ind)\n",
    "        print(''.join(itos[i] for i in context), '-->', itos[ind])\n",
    "        context = context[1:] + [ind]\n",
    "\n",
    "X = torch.tensor(X)\n",
    "Y = torch.tensor(Y)"
   ]
  },
  {
   "cell_type": "code",
   "execution_count": 36,
   "id": "b5959043",
   "metadata": {},
   "outputs": [
    {
     "data": {
      "text/plain": [
       "(torch.Size([32, 3]), torch.int64, torch.Size([32]), torch.int64)"
      ]
     },
     "execution_count": 36,
     "metadata": {},
     "output_type": "execute_result"
    }
   ],
   "source": [
    "X.shape, X.dtype, Y.shape, Y.dtype # type: ignore"
   ]
  },
  {
   "cell_type": "code",
   "execution_count": 37,
   "id": "40d0e754",
   "metadata": {},
   "outputs": [
    {
     "name": "stdout",
     "output_type": "stream",
     "text": [
      "torch.Size([27, 2])\n"
     ]
    },
    {
     "data": {
      "text/plain": [
       "tensor([[ 1.8121e+00, -1.0774e+00],\n",
       "        [ 7.1450e-01,  1.3835e+00],\n",
       "        [ 9.6207e-01,  1.7333e-01],\n",
       "        [ 7.5742e-01,  5.9888e-01],\n",
       "        [ 1.4570e+00, -2.9258e-01],\n",
       "        [-9.8830e-01,  9.2055e-01],\n",
       "        [-7.3107e-01, -8.6211e-01],\n",
       "        [ 2.7626e-02, -2.0563e-01],\n",
       "        [-2.4009e+00, -7.9040e-01],\n",
       "        [ 1.1729e-01, -2.5543e-01],\n",
       "        [-1.0108e+00, -9.9343e-01],\n",
       "        [-1.7799e+00,  1.6636e+00],\n",
       "        [-7.9049e-01, -7.4993e-01],\n",
       "        [-1.4935e-01,  1.0707e+00],\n",
       "        [-2.9669e-01,  2.1949e+00],\n",
       "        [ 8.3863e-01,  1.1487e+00],\n",
       "        [ 1.0149e-01, -4.7976e-01],\n",
       "        [ 6.9843e-01, -1.8436e-01],\n",
       "        [-4.1806e-01,  1.1658e+00],\n",
       "        [ 5.2739e-01, -8.8634e-01],\n",
       "        [-1.6801e+00,  6.6278e-01],\n",
       "        [ 2.2071e+00,  5.9645e-01],\n",
       "        [ 2.6439e-01, -3.3268e-01],\n",
       "        [ 2.8381e-01,  3.0942e-01],\n",
       "        [-1.0442e-01, -6.2841e-01],\n",
       "        [ 1.7937e-03,  7.2023e-01],\n",
       "        [ 1.3094e+00,  1.6723e+00]])"
      ]
     },
     "execution_count": 37,
     "metadata": {},
     "output_type": "execute_result"
    }
   ],
   "source": [
    "# create 2-dimensional embeddings for each character\n",
    "C = torch.randn((27, 2))\n",
    "print(C.shape)\n",
    "C"
   ]
  },
  {
   "cell_type": "code",
   "execution_count": 38,
   "id": "65fe54cb",
   "metadata": {},
   "outputs": [
    {
     "data": {
      "text/plain": [
       "tensor([-0.9883,  0.9205])"
      ]
     },
     "execution_count": 38,
     "metadata": {},
     "output_type": "execute_result"
    }
   ],
   "source": [
    "# the embedding of 'd'\n",
    "C[5]"
   ]
  },
  {
   "cell_type": "code",
   "execution_count": 39,
   "id": "e2657c47",
   "metadata": {},
   "outputs": [
    {
     "data": {
      "text/plain": [
       "tensor([-0.9883,  0.9205])"
      ]
     },
     "execution_count": 39,
     "metadata": {},
     "output_type": "execute_result"
    }
   ],
   "source": [
    "# Note that this is equivalent to the above cell\n",
    "F.one_hot(torch.tensor(5), num_classes=27).float() @ C"
   ]
  },
  {
   "cell_type": "code",
   "execution_count": 40,
   "id": "43a0422f",
   "metadata": {},
   "outputs": [
    {
     "data": {
      "text/plain": [
       "torch.Size([32, 3, 2])"
      ]
     },
     "execution_count": 40,
     "metadata": {},
     "output_type": "execute_result"
    }
   ],
   "source": [
    "# we can also index into C using the entire X tensor\n",
    "# this has replaced each index in X with its embedding\n",
    "emb = C[X]\n",
    "C[X].shape"
   ]
  },
  {
   "cell_type": "markdown",
   "id": "f377c669",
   "metadata": {},
   "source": [
    "https://github.com/NamanBiyani06/LanguageModels/blob/main/images/bengioetal.png"
   ]
  },
  {
   "cell_type": "code",
   "execution_count": 41,
   "id": "f21c95e6",
   "metadata": {},
   "outputs": [],
   "source": [
    "# first hidden layer"
   ]
  }
 ],
 "metadata": {
  "kernelspec": {
   "display_name": "venv",
   "language": "python",
   "name": "python3"
  },
  "language_info": {
   "codemirror_mode": {
    "name": "ipython",
    "version": 3
   },
   "file_extension": ".py",
   "mimetype": "text/x-python",
   "name": "python",
   "nbconvert_exporter": "python",
   "pygments_lexer": "ipython3",
   "version": "3.10.7"
  }
 },
 "nbformat": 4,
 "nbformat_minor": 5
}
